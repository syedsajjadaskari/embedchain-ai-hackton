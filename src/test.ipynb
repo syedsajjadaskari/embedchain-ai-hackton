{
 "cells": [
  {
   "cell_type": "code",
   "execution_count": 4,
   "metadata": {},
   "outputs": [
    {
     "name": "stdout",
     "output_type": "stream",
     "text": [
      "None\n"
     ]
    },
    {
     "ename": "ValueError",
     "evalue": "API_KEY is not set in the environment.",
     "output_type": "error",
     "traceback": [
      "\u001b[0;31m---------------------------------------------------------------------------\u001b[0m",
      "\u001b[0;31mValueError\u001b[0m                                Traceback (most recent call last)",
      "\u001b[1;32m/workspaces/embedchain-ai-hackton/src/test.ipynb Cell 1\u001b[0m line \u001b[0;36m9\n\u001b[1;32m      <a href='vscode-notebook-cell://codespaces%2Bsilver-robot-59w6p6wjv6qc46q/workspaces/embedchain-ai-hackton/src/test.ipynb#W0sdnNjb2RlLXJlbW90ZQ%3D%3D?line=6'>7</a>\u001b[0m         \u001b[39mraise\u001b[39;00m \u001b[39mValueError\u001b[39;00m(\u001b[39m\"\u001b[39m\u001b[39mAPI_KEY is not set in the environment.\u001b[39m\u001b[39m\"\u001b[39m)\n\u001b[1;32m      <a href='vscode-notebook-cell://codespaces%2Bsilver-robot-59w6p6wjv6qc46q/workspaces/embedchain-ai-hackton/src/test.ipynb#W0sdnNjb2RlLXJlbW90ZQ%3D%3D?line=7'>8</a>\u001b[0m     \u001b[39mreturn\u001b[39;00m api_key\n\u001b[0;32m----> <a href='vscode-notebook-cell://codespaces%2Bsilver-robot-59w6p6wjv6qc46q/workspaces/embedchain-ai-hackton/src/test.ipynb#W0sdnNjb2RlLXJlbW90ZQ%3D%3D?line=8'>9</a>\u001b[0m get_api_key()\n",
      "\u001b[1;32m/workspaces/embedchain-ai-hackton/src/test.ipynb Cell 1\u001b[0m line \u001b[0;36m7\n\u001b[1;32m      <a href='vscode-notebook-cell://codespaces%2Bsilver-robot-59w6p6wjv6qc46q/workspaces/embedchain-ai-hackton/src/test.ipynb#W0sdnNjb2RlLXJlbW90ZQ%3D%3D?line=4'>5</a>\u001b[0m \u001b[39mprint\u001b[39m(api_key)\n\u001b[1;32m      <a href='vscode-notebook-cell://codespaces%2Bsilver-robot-59w6p6wjv6qc46q/workspaces/embedchain-ai-hackton/src/test.ipynb#W0sdnNjb2RlLXJlbW90ZQ%3D%3D?line=5'>6</a>\u001b[0m \u001b[39mif\u001b[39;00m api_key \u001b[39mis\u001b[39;00m \u001b[39mNone\u001b[39;00m:\n\u001b[0;32m----> <a href='vscode-notebook-cell://codespaces%2Bsilver-robot-59w6p6wjv6qc46q/workspaces/embedchain-ai-hackton/src/test.ipynb#W0sdnNjb2RlLXJlbW90ZQ%3D%3D?line=6'>7</a>\u001b[0m     \u001b[39mraise\u001b[39;00m \u001b[39mValueError\u001b[39;00m(\u001b[39m\"\u001b[39m\u001b[39mAPI_KEY is not set in the environment.\u001b[39m\u001b[39m\"\u001b[39m)\n\u001b[1;32m      <a href='vscode-notebook-cell://codespaces%2Bsilver-robot-59w6p6wjv6qc46q/workspaces/embedchain-ai-hackton/src/test.ipynb#W0sdnNjb2RlLXJlbW90ZQ%3D%3D?line=7'>8</a>\u001b[0m \u001b[39mreturn\u001b[39;00m api_key\n",
      "\u001b[0;31mValueError\u001b[0m: API_KEY is not set in the environment."
     ]
    }
   ],
   "source": [
    "import os\n",
    "def get_api_key():\n",
    "    \"\"\"Get the API key from the environment variable.\"\"\"\n",
    "    api_key = os.getenv(\"api_key\")\n",
    "    print(api_key)\n",
    "    if api_key is None:\n",
    "        raise ValueError(\"API_KEY is not set in the environment.\")\n",
    "    return api_key\n",
    "get_api_key()"
   ]
  },
  {
   "cell_type": "code",
   "execution_count": null,
   "metadata": {},
   "outputs": [],
   "source": []
  }
 ],
 "metadata": {
  "kernelspec": {
   "display_name": "Python 3",
   "language": "python",
   "name": "python3"
  },
  "language_info": {
   "codemirror_mode": {
    "name": "ipython",
    "version": 3
   },
   "file_extension": ".py",
   "mimetype": "text/x-python",
   "name": "python",
   "nbconvert_exporter": "python",
   "pygments_lexer": "ipython3",
   "version": "3.10.13"
  }
 },
 "nbformat": 4,
 "nbformat_minor": 2
}
